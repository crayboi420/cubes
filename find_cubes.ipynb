{
 "cells": [
  {
   "cell_type": "code",
   "execution_count": 135,
   "metadata": {},
   "outputs": [],
   "source": [
    "import numpy as np\n",
    "import matplotlib.pyplot as plt\n",
    "import scipy\n",
    "import sys\n",
    "from tqdm import trange\n",
    "\n",
    "from ipywidgets import interact, interactive, fixed, interact_manual\n",
    "from matplotlib.widgets import Slider, Button"
   ]
  },
  {
   "cell_type": "code",
   "execution_count": 105,
   "metadata": {},
   "outputs": [],
   "source": [
    "cubes_list = [\n",
    "    { \n",
    "     hash(str(np.array([1]))): \n",
    "         np.array([[[1]]])\n",
    "         }\n",
    "    ]"
   ]
  },
  {
   "cell_type": "code",
   "execution_count": 106,
   "metadata": {},
   "outputs": [],
   "source": [
    "def add_cube(matrix):\n",
    "    pad_matrix = np.pad(matrix,1)\n",
    "    \n",
    "    conv = np.array([[[0,0,0],[0,1,0],[0,0,0]]\n",
    "                     ,[[0,1,0],[1,-10,1],[0,1,0]]\n",
    "                     ,[[0,0,0],[0,1,0],[0,0,0]]])\n",
    "\n",
    "    places = scipy.ndimage.convolve(pad_matrix,conv,mode='constant',cval=0)\n",
    "    \n",
    "    new_matrices = []\n",
    "    for idx in np.argwhere(places>0):\n",
    "        new_mat = pad_matrix.copy()\n",
    "        new_mat[tuple(idx)] = 1\n",
    "        new_matrices.append(new_mat)\n",
    "    return new_matrices"
   ]
  },
  {
   "cell_type": "code",
   "execution_count": null,
   "metadata": {},
   "outputs": [],
   "source": [
    "def check_chiral(matrix):\n",
    "    reflection = matrix[::-1].copy()\n",
    "    "
   ]
  },
  {
   "cell_type": "code",
   "execution_count": 107,
   "metadata": {},
   "outputs": [],
   "source": [
    "def get_distances(matrix,n:int=None):\n",
    "    dist_mat = scipy.spatial.distance_matrix(np.argwhere(matrix==1),np.argwhere(matrix==1))\n",
    "    if not n:\n",
    "        n = dist_mat.shape[0]\n",
    "    distances = np.sort(dist_mat[np.triu_indices(n,k=1)])[::-1]\n",
    "    return distances.copy(order='C')"
   ]
  },
  {
   "cell_type": "code",
   "execution_count": 108,
   "metadata": {},
   "outputs": [],
   "source": [
    "dist = get_distances(np.array([\n",
    "    [1,1,1],\n",
    "    [1,1,1],\n",
    "    [1,1,1],\n",
    "    ]))"
   ]
  },
  {
   "cell_type": "code",
   "execution_count": 130,
   "metadata": {},
   "outputs": [],
   "source": [
    "last_dic = cubes_list[-1]\n",
    "itr = iter(last_dic.values())\n",
    "new_dic = {}\n",
    "for i in trange(len(last_dic)):\n",
    "    cube = next(itr)\n",
    "\n",
    "    new_matrices = add_cube(cube)\n",
    "    for matrix in new_matrices:\n",
    "        distances = get_distances(matrix)\n",
    "        new_dic[hash(str(distances))] = matrix.copy()\n",
    "cubes_list.append(new_dic)"
   ]
  },
  {
   "cell_type": "code",
   "execution_count": 132,
   "metadata": {},
   "outputs": [
    {
     "data": {
      "application/vnd.jupyter.widget-view+json": {
       "model_id": "59d482397ce54e4cb808307c5306c074",
       "version_major": 2,
       "version_minor": 0
      },
      "text/plain": [
       "interactive(children=(IntSlider(value=70476, description='x', max=140953), Output()), _dom_classes=('widget-in…"
      ]
     },
     "metadata": {},
     "output_type": "display_data"
    }
   ],
   "source": [
    "n = 9\n",
    "@interact(x=(0,len(cubes_list[n])-1))\n",
    "def plot(x):\n",
    "    ax = plt.figure().add_subplot(projection='3d')\n",
    "    ax.voxels(list(cubes_list[n].values())[x], edgecolor='k')\n",
    "\n",
    "    plt.show()"
   ]
  },
  {
   "cell_type": "code",
   "execution_count": 139,
   "metadata": {},
   "outputs": [
    {
     "data": {
      "text/plain": [
       "5.000083923339844"
      ]
     },
     "execution_count": 139,
     "metadata": {},
     "output_type": "execute_result"
    }
   ],
   "source": [
    "sys.getsizeof(cubes_list[-1])/1024/1024"
   ]
  }
 ],
 "metadata": {
  "kernelspec": {
   "display_name": "Python 3",
   "language": "python",
   "name": "python3"
  },
  "language_info": {
   "codemirror_mode": {
    "name": "ipython",
    "version": 3
   },
   "file_extension": ".py",
   "mimetype": "text/x-python",
   "name": "python",
   "nbconvert_exporter": "python",
   "pygments_lexer": "ipython3",
   "version": "3.10.9"
  },
  "orig_nbformat": 4
 },
 "nbformat": 4,
 "nbformat_minor": 2
}
