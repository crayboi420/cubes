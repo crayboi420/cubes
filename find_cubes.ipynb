{
 "cells": [
  {
   "cell_type": "code",
   "execution_count": 1,
   "metadata": {},
   "outputs": [],
   "source": [
    "import numpy as np\n",
    "import pandas as pd\n",
    "import matplotlib.pyplot as plt\n",
    "import scipy\n",
    "import sys\n",
    "from tqdm import trange\n",
    "%load_ext line_profiler\n",
    "\n",
    "from ipywidgets import interact, interactive, fixed, interact_manual\n",
    "from matplotlib.widgets import Slider, Button"
   ]
  },
  {
   "cell_type": "code",
   "execution_count": 2,
   "metadata": {},
   "outputs": [],
   "source": [
    "def plot_cubes(matrix):\n",
    "    ax = plt.figure().add_subplot(projection='3d')\n",
    "    ax.voxels(matrix,edgecolor='k')"
   ]
  },
  {
   "cell_type": "code",
   "execution_count": 3,
   "metadata": {},
   "outputs": [],
   "source": [
    "def add_cube(matrix):\n",
    "    pad_matrix = np.pad(matrix,1)\n",
    "    conv = np.array([[[0,0,0],[0,1,0],[0,0,0]]\n",
    "                     ,[[0,1,0],[1,-10,1],[0,1,0]]\n",
    "                     ,[[0,0,0],[0,1,0],[0,0,0]]])\n",
    "\n",
    "    places = scipy.ndimage.convolve(pad_matrix,conv,mode='constant',cval=0)\n",
    "    \n",
    "    new_matrices = []\n",
    "    for idx in np.argwhere(places>0):\n",
    "        new_mat = pad_matrix.copy()\n",
    "        new_mat[tuple(idx)] = 1\n",
    "        new_matrices.append(new_mat)\n",
    "    return new_matrices\n",
    "\n",
    "def add_cube_boolean(matrix):\n",
    "\n",
    "    # Pad the boolean array\n",
    "    pad_matrix = np.pad(matrix,1)\n",
    "\n",
    "    # Define the convolution kernel\n",
    "    conv = np.array([[[0,0,0],[0,1,0],[0,0,0]],\n",
    "                     [[0,1,0],[1,0,1],[0,1,0]],\n",
    "                     [[0,0,0],[0,1,0],[0,0,0]]])\n",
    "\n",
    "    # Perform the convolution operation\n",
    "    places = scipy.ndimage.convolve(pad_matrix.astype(int), conv, mode='constant', cval=0) > 0\n",
    "\n",
    "    # Get the coordinates where a new cube can be added\n",
    "    coords = np.argwhere(places & ~pad_matrix)\n",
    "\n",
    "    new_matrices = []\n",
    "    for coord in coords:\n",
    "        new_matrix = pad_matrix.copy()\n",
    "        new_matrix[tuple(coord)] = True\n",
    "        new_matrices.append(new_matrix)\n",
    "    \n",
    "    return new_matrices\n",
    "\n",
    "def trim_matrix(matrix):\n",
    "    where = np.argwhere(matrix)\n",
    "    min_coords = where.min(axis=0)\n",
    "    max_coords = where.max(axis=0) + 1  # add 1 because the end index is exclusive\n",
    "    matrix = matrix[min_coords[0]:max_coords[0], min_coords[1]:max_coords[1], min_coords[2]:max_coords[2]]\n",
    "    return matrix"
   ]
  },
  {
   "cell_type": "code",
   "execution_count": 4,
   "metadata": {},
   "outputs": [],
   "source": [
    "def get_distances(matrix,n:int=None):\n",
    "    where = np.argwhere(matrix)\n",
    "    dist_mat = scipy.spatial.distance_matrix(where,where)\n",
    "    if not n:\n",
    "        n = dist_mat.shape[0]\n",
    "    distances = np.sort(dist_mat[np.triu_indices(n,k=1)])[::-1]\n",
    "    d = distances\n",
    "    return d"
   ]
  },
  {
   "cell_type": "code",
   "execution_count": 96,
   "metadata": {},
   "outputs": [],
   "source": [
    "def check_chiral(matrix):\n",
    "    reflection = matrix[::-1].copy()\n",
    "    return not any([np.array_equal(matrix,_) for _ in rotations24(reflection)])\n",
    "\n",
    "def rotations24(matrix):\n",
    "    \"\"\"List all 24 rotations of the given 3d array\"\"\"\n",
    "    def rotations4(matrix, axes):\n",
    "        \"\"\"List the four rotations of the given 3d array in the plane spanned by the given axes.\"\"\"\n",
    "        for i in range(4):\n",
    "             yield np.rot90(matrix, i, axes)\n",
    "\n",
    "    # imagine shape is pointing in axis 0 (up)\n",
    "\n",
    "    # 4 rotations about axis 0\n",
    "    yield from rotations4(matrix, (1,2))\n",
    "\n",
    "    # rotate 180 about axis 1, now shape is pointing down in axis 0\n",
    "    # 4 rotations about axis 0\n",
    "    yield from rotations4(np.rot90(matrix, 2, axes=(0,2)), (1,2))\n",
    "\n",
    "    # rotate 90 or 270 about axis 1, now shape is pointing in axis 2\n",
    "    # 8 rotations about axis 2\n",
    "    yield from rotations4(np.rot90(matrix, axes=(0,2)), (0,1))\n",
    "    yield from rotations4(np.rot90(matrix, -1, axes=(0,2)), (0,1))\n",
    "\n",
    "    # rotate about axis 2, now shape is pointing in axis 1\n",
    "    # 8 rotations about axis 1\n",
    "    yield from rotations4(np.rot90(matrix, axes=(0,1)), (0,2))\n",
    "    yield from rotations4(np.rot90(matrix, -1, axes=(0,1)), (0,2))"
   ]
  },
  {
   "cell_type": "code",
   "execution_count": 91,
   "metadata": {},
   "outputs": [],
   "source": [
    "def add_n(df):\n",
    "    nmax = df.n.max()\n",
    "    new_df = pd.DataFrame(\n",
    "            columns=[\n",
    "                'id',\n",
    "                'n',\n",
    "                'matrix',\n",
    "                'distances',\n",
    "                'chiral',\n",
    "                'id_from'\n",
    "            ],\n",
    "        )\n",
    "\n",
    "    # Add a cube to each matrix\n",
    "    new_df['matrix'] = df.loc[df.n==nmax].matrix.map(add_cube_boolean)\n",
    "    new_df['id_from'] = df.loc[df.n==nmax]['id']\n",
    "    \n",
    "    # Explode the list of matrices\n",
    "    new_df = new_df.explode('matrix')\n",
    "    # Add the id of the matrix that it was created from\n",
    "    new_df['matrix'] = new_df['matrix'].map(trim_matrix)\n",
    "    new_df['id_from'] = new_df['id_from'].map(lambda x : list([x]))\n",
    "\n",
    "    #Make the hash using the distance matrix\n",
    "    new_df['distances'] = new_df.matrix.map(get_distances)\n",
    "    new_df['id'] = new_df.distances.map(lambda x: hash(x.data.tobytes()))\n",
    "\n",
    "    # Remove duplicates\n",
    "    new_df2 = new_df.groupby(['id']).first()\n",
    "    new_df2['id_from'] = new_df.groupby(['id']).id_from.sum()\n",
    "\n",
    "    new_df2.reset_index(inplace=True)\n",
    "    new_df2['n'] = nmax+1\n",
    "    # Remove duplicates from the id_from column\n",
    "    new_df2.id_from = new_df2.id_from.map(lambda x: list(set(x)))\n",
    "    # Check chirality\n",
    "    new_df2['chiral'] = new_df2.matrix.map(check_chiral) \n",
    "    \n",
    "    df = pd.concat([df,new_df2],axis=0,ignore_index=True)\n",
    "    return df"
   ]
  },
  {
   "cell_type": "code",
   "execution_count": 92,
   "metadata": {},
   "outputs": [],
   "source": [
    "df0 = pd.DataFrame(\n",
    "    columns=[\n",
    "        'id',\n",
    "        'n',\n",
    "        'matrix',\n",
    "        'distances',\n",
    "        'chiral',\n",
    "        'id_from'\n",
    "    ],\n",
    "    )\n",
    "df0.loc[len(df0)] =  {\n",
    "    \n",
    "    'id':  hash(str(np.array([0]))),\n",
    "    'n': 1,\n",
    "    'matrix': np.array(\n",
    "                        [[[1]]]\n",
    "                        ,dtype='bool'\n",
    "                        ),\n",
    "    'distances': np.array([0]) ,\n",
    "    'chiral': False,\n",
    "    'id_from' : []\n",
    "}"
   ]
  },
  {
   "cell_type": "code",
   "execution_count": 93,
   "metadata": {},
   "outputs": [],
   "source": [
    "def add_till_n(n,df = df0):\n",
    "    last_n = df.n.max()\n",
    "    for i in trange(n-last_n):\n",
    "        df = add_n(df)\n",
    "    return df"
   ]
  },
  {
   "cell_type": "code",
   "execution_count": 105,
   "metadata": {},
   "outputs": [
    {
     "name": "stderr",
     "output_type": "stream",
     "text": [
      "100%|██████████| 2/2 [10:08<00:00, 304.07s/it]\n"
     ]
    }
   ],
   "source": [
    "df = add_till_n(11,df)"
   ]
  },
  {
   "cell_type": "code",
   "execution_count": 118,
   "metadata": {},
   "outputs": [
    {
     "data": {
      "text/plain": [
       "n\n",
       "1           1\n",
       "2           1\n",
       "3           2\n",
       "4           8\n",
       "5          27\n",
       "6         146\n",
       "7         782\n",
       "8        5308\n",
       "9       35897\n",
       "10     272726\n",
       "11    2051415\n",
       "Name: nums, dtype: int64"
      ]
     },
     "execution_count": 118,
     "metadata": {},
     "output_type": "execute_result"
    }
   ],
   "source": [
    "df['nums'] = df.chiral.apply(lambda x : 2 if x else 1)\n",
    "total_nums = df.groupby('n').nums.sum()\n",
    "total_nums"
   ]
  },
  {
   "cell_type": "code",
   "execution_count": 106,
   "metadata": {},
   "outputs": [
    {
     "data": {
      "application/vnd.jupyter.widget-view+json": {
       "model_id": "df0b4951199949e2b2f532e2d58f7425",
       "version_major": 2,
       "version_minor": 0
      },
      "text/plain": [
       "interactive(children=(IntSlider(value=521338, description='x', max=1042676), Output()), _dom_classes=('widget-…"
      ]
     },
     "metadata": {},
     "output_type": "display_data"
    }
   ],
   "source": [
    "n = 11\n",
    "ids = df.loc[df.n==n].id.tolist()\n",
    "vals = df.loc[df.n==n].matrix.tolist()\n",
    "\n",
    "@interact(x=(0,len(vals)-1))\n",
    "def plot(x):\n",
    "    print(ids[x])\n",
    "    plot_cubes(vals[x])"
   ]
  }
 ],
 "metadata": {
  "kernelspec": {
   "display_name": "Python 3",
   "language": "python",
   "name": "python3"
  },
  "language_info": {
   "codemirror_mode": {
    "name": "ipython",
    "version": 3
   },
   "file_extension": ".py",
   "mimetype": "text/x-python",
   "name": "python",
   "nbconvert_exporter": "python",
   "pygments_lexer": "ipython3",
   "version": "3.10.9"
  },
  "orig_nbformat": 4
 },
 "nbformat": 4,
 "nbformat_minor": 2
}
